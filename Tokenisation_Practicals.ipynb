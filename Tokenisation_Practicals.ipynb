{
  "nbformat": 4,
  "nbformat_minor": 0,
  "metadata": {
    "colab": {
      "provenance": [],
      "authorship_tag": "ABX9TyPJkLHSqhPwdSMkJfjeh+Ww",
      "include_colab_link": true
    },
    "kernelspec": {
      "name": "python3",
      "display_name": "Python 3"
    },
    "language_info": {
      "name": "python"
    }
  },
  "cells": [
    {
      "cell_type": "markdown",
      "metadata": {
        "id": "view-in-github",
        "colab_type": "text"
      },
      "source": [
        "<a href=\"https://colab.research.google.com/github/SaurabhVora/NLP-Learning/blob/main/Tokenisation_Practicals.ipynb\" target=\"_parent\"><img src=\"https://colab.research.google.com/assets/colab-badge.svg\" alt=\"Open In Colab\"/></a>"
      ]
    },
    {
      "cell_type": "code",
      "execution_count": null,
      "metadata": {
        "id": "3dP9yqXeiE9C"
      },
      "outputs": [],
      "source": [
        "corpus = \"\"\"This is the first document.\n",
        "    This document is the second document.\n",
        "    And this is the third one.\n",
        "    Is this the first document?\n",
        "    \"\"\""
      ]
    },
    {
      "cell_type": "code",
      "source": [
        "# Tokensation\n",
        "# Sentence ---> Paragraphs\n",
        "# NLTK : Natural language toolkit used for understand human language Data..\n",
        "import nltk\n",
        "nltk.download('punkt')\n",
        "from nltk.tokenize import sent_tokenize"
      ],
      "metadata": {
        "colab": {
          "base_uri": "https://localhost:8080/"
        },
        "id": "GKm7ThJGkFpA",
        "outputId": "b8bc68e4-e2a7-4f64-afb0-d102131be6b4"
      },
      "execution_count": null,
      "outputs": [
        {
          "output_type": "stream",
          "name": "stderr",
          "text": [
            "[nltk_data] Downloading package punkt to /root/nltk_data...\n",
            "[nltk_data]   Unzipping tokenizers/punkt.zip.\n"
          ]
        }
      ]
    },
    {
      "cell_type": "code",
      "source": [
        "documents = sent_tokenize(corpus)"
      ],
      "metadata": {
        "id": "gJGdMa2YlKMj"
      },
      "execution_count": null,
      "outputs": []
    },
    {
      "cell_type": "code",
      "source": [
        "documents"
      ],
      "metadata": {
        "colab": {
          "base_uri": "https://localhost:8080/"
        },
        "id": "HDCSpjUVlReJ",
        "outputId": "e14a22dc-af10-4a78-f70f-4cbb580a96ef"
      },
      "execution_count": null,
      "outputs": [
        {
          "output_type": "execute_result",
          "data": {
            "text/plain": [
              "['This is the first document.',\n",
              " 'This document is the second document.',\n",
              " 'And this is the third one.',\n",
              " 'Is this the first document?']"
            ]
          },
          "metadata": {},
          "execution_count": 9
        }
      ]
    },
    {
      "cell_type": "code",
      "source": [
        "type(documents)"
      ],
      "metadata": {
        "colab": {
          "base_uri": "https://localhost:8080/"
        },
        "id": "VypErqpEnVKH",
        "outputId": "86a2ecc8-dc70-421f-c9c4-54c967cd8d41"
      },
      "execution_count": null,
      "outputs": [
        {
          "output_type": "execute_result",
          "data": {
            "text/plain": [
              "list"
            ]
          },
          "metadata": {},
          "execution_count": 10
        }
      ]
    },
    {
      "cell_type": "code",
      "source": [
        "for sentance in documents :\n",
        "  print(sentance)"
      ],
      "metadata": {
        "colab": {
          "base_uri": "https://localhost:8080/"
        },
        "id": "UFaL1PWonYsy",
        "outputId": "9d3b2770-2966-4358-c220-ae808c58f6c9"
      },
      "execution_count": null,
      "outputs": [
        {
          "output_type": "stream",
          "name": "stdout",
          "text": [
            "This is the first document.\n",
            "This document is the second document.\n",
            "And this is the third one.\n",
            "Is this the first document?\n"
          ]
        }
      ]
    },
    {
      "cell_type": "code",
      "source": [
        "# Next Tokenisation\n",
        "# paragraphs ---> words\n",
        "# sentance ---> words\n",
        "from nltk.tokenize import word_tokenize"
      ],
      "metadata": {
        "id": "Ka4kT-ianigi"
      },
      "execution_count": null,
      "outputs": []
    },
    {
      "cell_type": "code",
      "source": [
        "all_words = word_tokenize(corpus)\n",
        "all_words"
      ],
      "metadata": {
        "colab": {
          "base_uri": "https://localhost:8080/"
        },
        "id": "CdizJO2hoOmK",
        "outputId": "2fac1249-d9ff-4e85-8be7-ef33a97f791d"
      },
      "execution_count": null,
      "outputs": [
        {
          "output_type": "execute_result",
          "data": {
            "text/plain": [
              "['This',\n",
              " 'is',\n",
              " 'the',\n",
              " 'first',\n",
              " 'document',\n",
              " '.',\n",
              " 'This',\n",
              " 'document',\n",
              " 'is',\n",
              " 'the',\n",
              " 'second',\n",
              " 'document',\n",
              " '.',\n",
              " 'And',\n",
              " 'this',\n",
              " 'is',\n",
              " 'the',\n",
              " 'third',\n",
              " 'one',\n",
              " '.',\n",
              " 'Is',\n",
              " 'this',\n",
              " 'the',\n",
              " 'first',\n",
              " 'document',\n",
              " '?']"
            ]
          },
          "metadata": {},
          "execution_count": 13
        }
      ]
    },
    {
      "cell_type": "code",
      "source": [
        "for word in documents:\n",
        "  print(word_tokenize(word))"
      ],
      "metadata": {
        "colab": {
          "base_uri": "https://localhost:8080/"
        },
        "id": "lvwkTw-CoX8g",
        "outputId": "f586fcfa-059a-4c48-9de2-b51c68a50ab6"
      },
      "execution_count": null,
      "outputs": [
        {
          "output_type": "stream",
          "name": "stdout",
          "text": [
            "['This', 'is', 'the', 'first', 'document', '.']\n",
            "['This', 'document', 'is', 'the', 'second', 'document', '.']\n",
            "['And', 'this', 'is', 'the', 'third', 'one', '.']\n",
            "['Is', 'this', 'the', 'first', 'document', '?']\n"
          ]
        }
      ]
    },
    {
      "cell_type": "code",
      "source": [
        "from nltk.tokenize import TreebankWordTokenizer"
      ],
      "metadata": {
        "id": "8Gy0tRIoo290"
      },
      "execution_count": null,
      "outputs": []
    },
    {
      "cell_type": "code",
      "source": [
        "tokenizer = TreebankWordTokenizer()"
      ],
      "metadata": {
        "id": "L2enXRXspoMm"
      },
      "execution_count": null,
      "outputs": []
    },
    {
      "cell_type": "code",
      "source": [
        "tokenizer.tokenize(corpus)"
      ],
      "metadata": {
        "colab": {
          "base_uri": "https://localhost:8080/"
        },
        "id": "VpwW-lYKpvv7",
        "outputId": "9c033f60-34f6-42de-e7b2-da222279afda"
      },
      "execution_count": null,
      "outputs": [
        {
          "output_type": "execute_result",
          "data": {
            "text/plain": [
              "['This',\n",
              " 'is',\n",
              " 'the',\n",
              " 'first',\n",
              " 'document.',\n",
              " 'This',\n",
              " 'document',\n",
              " 'is',\n",
              " 'the',\n",
              " 'second',\n",
              " 'document.',\n",
              " 'And',\n",
              " 'this',\n",
              " 'is',\n",
              " 'the',\n",
              " 'third',\n",
              " 'one.',\n",
              " 'Is',\n",
              " 'this',\n",
              " 'the',\n",
              " 'first',\n",
              " 'document',\n",
              " '?']"
            ]
          },
          "metadata": {},
          "execution_count": 19
        }
      ]
    },
    {
      "cell_type": "code",
      "source": [],
      "metadata": {
        "id": "zfC2Mp9Bp0Ff"
      },
      "execution_count": null,
      "outputs": []
    }
  ]
}