{
  "nbformat": 4,
  "nbformat_minor": 0,
  "metadata": {
    "colab": {
      "provenance": [],
      "authorship_tag": "ABX9TyPZqb7BYl1qXBB26Du74j9e",
      "include_colab_link": true
    },
    "kernelspec": {
      "name": "python3",
      "display_name": "Python 3"
    },
    "language_info": {
      "name": "python"
    }
  },
  "cells": [
    {
      "cell_type": "markdown",
      "metadata": {
        "id": "view-in-github",
        "colab_type": "text"
      },
      "source": [
        "<a href=\"https://colab.research.google.com/github/SaurabhVora/NLP-Learning/blob/main/Text_Processing_Stemming.ipynb\" target=\"_parent\"><img src=\"https://colab.research.google.com/assets/colab-badge.svg\" alt=\"Open In Colab\"/></a>"
      ]
    },
    {
      "cell_type": "code",
      "execution_count": null,
      "metadata": {
        "id": "F_SH-kBwNr7s"
      },
      "outputs": [],
      "source": [
        "words_stemmer = [\"programming\", \"programmed\", \"programmer\", \"walking\", \"walked\", \"walker\", \"swimming\", \"swimmer\", \"swam\", \"eating\", \"eater\", \"eaten\", \"playing\", \"played\", \"player\"]"
      ]
    },
    {
      "cell_type": "code",
      "source": [
        "## PorterStemmer class\n",
        "from nltk.stem import PorterStemmer\n",
        "ps = PorterStemmer()"
      ],
      "metadata": {
        "id": "XWBFBNB2PXqP"
      },
      "execution_count": null,
      "outputs": []
    },
    {
      "cell_type": "code",
      "source": [
        "for word in words_stemmer:\n",
        "  print(word + \"---->\" + ps.stem(word))"
      ],
      "metadata": {
        "colab": {
          "base_uri": "https://localhost:8080/"
        },
        "id": "12e5nod3PxXL",
        "outputId": "01f856ac-48cd-43fd-f49c-0f709247e055"
      },
      "execution_count": null,
      "outputs": [
        {
          "output_type": "stream",
          "name": "stdout",
          "text": [
            "programming---->program\n",
            "programmed---->program\n",
            "programmer---->programm\n",
            "walking---->walk\n",
            "walked---->walk\n",
            "walker---->walker\n",
            "swimming---->swim\n",
            "swimmer---->swimmer\n",
            "swam---->swam\n",
            "eating---->eat\n",
            "eater---->eater\n",
            "eaten---->eaten\n",
            "playing---->play\n",
            "played---->play\n",
            "player---->player\n"
          ]
        }
      ]
    },
    {
      "cell_type": "code",
      "source": [
        "## Regexp Stemmer class\n",
        "from nltk.stem import RegexpStemmer\n",
        "rs = RegexpStemmer('ing$|s$|ed|able$',min = 4)\n",
        "#words = input(\"Enter words: \").split()\n",
        "#for word in words:\n",
        "  #print(word + \"---->\" + rs.stem(word))"
      ],
      "metadata": {
        "id": "0zwJr6p0QN_E"
      },
      "execution_count": null,
      "outputs": []
    },
    {
      "cell_type": "code",
      "source": [
        "## Snowball Stemmer clss\n",
        "from nltk.stem import SnowballStemmer\n",
        "ss = SnowballStemmer(language = 'english')\n",
        "for word in words_stemmer:\n",
        "  print(word + \"---->\" + ss.stem(word))"
      ],
      "metadata": {
        "colab": {
          "base_uri": "https://localhost:8080/"
        },
        "id": "mJCYNfLqSlqj",
        "outputId": "efa0041c-fd9e-4c51-a9b9-0eeceb7ebb42"
      },
      "execution_count": null,
      "outputs": [
        {
          "output_type": "stream",
          "name": "stdout",
          "text": [
            "programming---->program\n",
            "programmed---->program\n",
            "programmer---->programm\n",
            "walking---->walk\n",
            "walked---->walk\n",
            "walker---->walker\n",
            "swimming---->swim\n",
            "swimmer---->swimmer\n",
            "swam---->swam\n",
            "eating---->eat\n",
            "eater---->eater\n",
            "eaten---->eaten\n",
            "playing---->play\n",
            "played---->play\n",
            "player---->player\n"
          ]
        }
      ]
    },
    {
      "cell_type": "code",
      "source": [
        "## differnce between Porter Stammer(ps) and Snowball Stemmer(ss)\n",
        "porter = ps.stem('fairly') , ps.stem('sportingly')\n",
        "snowball = ss.stem('fairly') , ss.stem('sportingly')\n",
        "print('PorterStemmer Answer is : ', porter)\n",
        "print('SnowballStemmer Answer is : ', snowball)"
      ],
      "metadata": {
        "colab": {
          "base_uri": "https://localhost:8080/"
        },
        "id": "yoDTkIoyUDP5",
        "outputId": "026ceed4-1557-45a5-deab-0192e4d8e2bb"
      },
      "execution_count": null,
      "outputs": [
        {
          "output_type": "stream",
          "name": "stdout",
          "text": [
            "PorterStemmer Answer is :  ('fairli', 'sportingli')\n",
            "SnowballStemmer Answer is :  ('fair', 'sport')\n"
          ]
        }
      ]
    },
    {
      "cell_type": "code",
      "source": [],
      "metadata": {
        "id": "1CvuMEbeVtUj"
      },
      "execution_count": null,
      "outputs": []
    }
  ]
}